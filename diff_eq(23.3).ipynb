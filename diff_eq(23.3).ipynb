{
 "cells": [
  {
   "cell_type": "code",
   "execution_count": 3,
   "metadata": {
    "collapsed": false
   },
   "outputs": [
    {
     "name": "stdout",
     "output_type": "stream",
     "text": [
      "-1.8180513382\n",
      "-3.31570863724\n"
     ]
    }
   ],
   "source": [
    "#y''=sqrt(y'^2+1)\n",
    "#y(0)=2\n",
    "#y(1)=1\n",
    "dy_a = -2\n",
    "dy_b = -1\n",
    "\n",
    "import numpy as np\n",
    "\n",
    "def solve(dya, a, b, ya, N):\n",
    "    h = (b-a)/N\n",
    "    y = [ya]\n",
    "    dy = [dya]\n",
    "    for i in range(N):\n",
    "        dy.append(dy[-1]+(np.sqrt((dy[-1]**2)+1))*h)\n",
    "        y.append(y[-1]+dy[-1]*h)\n",
    "    return y[-1]\n",
    "\n",
    "    \n",
    "def find_dya(dya_i, dya_f, ya, yb, accuracy):\n",
    "    yb_ini = solve(dya_i, 0.0, 1.0, ya, 100)\n",
    "    yb_fin = solve(dya_f, 0.0, 1.0, ya, 100)\n",
    "    dya_m = (dya_i+dya_f)/2\n",
    "    yb_mid = solve(dya_m, 0.0, 1.0, ya, 100)\n",
    "    while abs(yb_mid-yb) > accuracy:\n",
    "        yb_mid = solve(dya_m, 0.0, 1.0, ya, 100)\n",
    "        if yb_ini < yb and yb_fin > yb:\n",
    "            if yb_mid > yb:\n",
    "                dya_f = dya_m\n",
    "            else:\n",
    "                dya_i = dya_m\n",
    "            dya_m = (dya_i+dya_f)/2\n",
    "        elif yb_ini > yb and yb_fin < yb:\n",
    "            if yb_mid > yb:\n",
    "                dya_i = dya_m\n",
    "            else:\n",
    "                dya_f = dya_m\n",
    "            dya_m = (dya_i+dya_f)/2\n",
    "        else:\n",
    "            print 'Choose better intervals.'\n",
    "            return\n",
    "    return dya_m\n",
    "            \n",
    "\n",
    "print find_dya(-10.0, 10.0, 2.0, 1.0, 0.000001)\n",
    "print find_dya(-10.0, 10.0, 2.0, 0.0, 0.000001)"
   ]
  },
  {
   "cell_type": "code",
   "execution_count": null,
   "metadata": {
    "collapsed": true
   },
   "outputs": [],
   "source": []
  }
 ],
 "metadata": {
  "kernelspec": {
   "display_name": "Python 2",
   "language": "python",
   "name": "python2"
  },
  "language_info": {
   "codemirror_mode": {
    "name": "ipython",
    "version": 2
   },
   "file_extension": ".py",
   "mimetype": "text/x-python",
   "name": "python",
   "nbconvert_exporter": "python",
   "pygments_lexer": "ipython2",
   "version": "2.7.11"
  }
 },
 "nbformat": 4,
 "nbformat_minor": 0
}
