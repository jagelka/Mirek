{
 "cells": [
  {
   "cell_type": "code",
   "execution_count": 23,
   "metadata": {
    "collapsed": false
   },
   "outputs": [
    {
     "name": "stdout",
     "output_type": "stream",
     "text": [
      "-5.0\n",
      "-2.5\n",
      "-1.25\n",
      "-1.875\n",
      "-1.5625\n",
      "-1.71875\n",
      "-1.796875\n",
      "-1.8359375\n",
      "-1.81640625\n",
      "-1.826171875\n",
      "-1.8212890625\n",
      "-1.81884765625\n",
      "-1.81762695312\n",
      "-1.81823730469\n",
      "-1.81793212891\n",
      "-1.8180847168\n",
      "-1.81800842285\n",
      "-1.81804656982\n",
      "-1.81806564331\n",
      "-1.81805610657\n",
      "-1.8180513382\n",
      "-1.8180513382\n"
     ]
    }
   ],
   "source": [
    "#y''=sqrt(y'^2+1)\n",
    "#y(0)=2\n",
    "#y(1)=1\n",
    "dy_a = -2\n",
    "dy_b = -1\n",
    "\n",
    "import numpy as np\n",
    "\n",
    "def solve(dya, a, b, ya, N):\n",
    "    h = (b-a)/N\n",
    "    y = [ya]\n",
    "    dy = [dya]\n",
    "    for i in range(N):\n",
    "        dy.append(dy[-1]+(np.sqrt((dy[-1]**2)+1))*h)\n",
    "        y.append(y[-1]+dy[-1]*h)\n",
    "    return y[-1]\n",
    "\n",
    "    \n",
    "def find_dya(dya_i, dya_f, yb, accuracy):\n",
    "    yb_ini = solve(dya_i, 0.0, 1.0, 2.0, 100)\n",
    "    yb_fin = solve(dya_f, 0.0, 1.0, 2.0, 100)\n",
    "    dya_m = (dya_i+dya_f)/2\n",
    "    yb_mid = solve(dya_m, 0.0, 1.0, 2.0, 100)\n",
    "    while abs(yb_mid-yb) > accuracy:\n",
    "        yb_mid = solve(dya_m, 0.0, 1.0, 2.0, 100)\n",
    "        if yb_ini < yb and yb_fin > yb:\n",
    "            if yb_mid > yb:\n",
    "                dya_f = dya_m\n",
    "            else:\n",
    "                dya_i = dya_m\n",
    "            dya_m = (dya_i+dya_f)/2\n",
    "        elif yb_ini > yb and yb_fin < yb:\n",
    "            if yb_mid > yb:\n",
    "                dya_i = dya_m\n",
    "            else:\n",
    "                dya_f = dya_m\n",
    "            dya_m = (dya_i+dya_f)/2\n",
    "        else:\n",
    "            print 'Choose better intervals.'\n",
    "            return\n",
    "        print dya_m\n",
    "    return dya_m\n",
    "            \n",
    "\n",
    "print find_dya(-10.0, 10.0, 1.0, 0.000001)"
   ]
  },
  {
   "cell_type": "code",
   "execution_count": null,
   "metadata": {
    "collapsed": true
   },
   "outputs": [],
   "source": []
  }
 ],
 "metadata": {
  "kernelspec": {
   "display_name": "Python 2",
   "language": "python",
   "name": "python2"
  },
  "language_info": {
   "codemirror_mode": {
    "name": "ipython",
    "version": 2
   },
   "file_extension": ".py",
   "mimetype": "text/x-python",
   "name": "python",
   "nbconvert_exporter": "python",
   "pygments_lexer": "ipython2",
   "version": "2.7.11"
  }
 },
 "nbformat": 4,
 "nbformat_minor": 0
}
