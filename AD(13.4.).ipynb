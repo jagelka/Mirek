{
 "cells": [
  {
   "cell_type": "code",
   "execution_count": 13,
   "metadata": {
    "collapsed": false
   },
   "outputs": [
    {
     "data": {
      "text/plain": [
       "[<matplotlib.lines.Line2D at 0x98eac50>]"
      ]
     },
     "execution_count": 13,
     "metadata": {},
     "output_type": "execute_result"
    },
    {
     "data": {
      "image/png": "[encoded data removed]",
      "text/plain": [
       "<matplotlib.figure.Figure at 0x95029b0>"
      ]
     },
     "metadata": {},
     "output_type": "display_data"
    }
   ],
   "source": [
    "#u = 1 for x <= 1.5\n",
    "#u = 0 for x > 1.5\n",
    "from __future__ import division\n",
    "import numpy as np\n",
    "import matplotlib.pyplot as plt\n",
    "%matplotlib inline\n",
    "\n",
    "def stair(x):\n",
    "    u = []\n",
    "    for i in x:\n",
    "        if i <= 1.5:\n",
    "            u.append(1)\n",
    "        else:\n",
    "            u.append(0)\n",
    "    return u\n",
    "\n",
    "def pulse(x):\n",
    "    u = []\n",
    "    for i in x:\n",
    "        if i < 1 and i > 0.5:\n",
    "            u.append(2)\n",
    "        else:\n",
    "            u.append(1)\n",
    "    return u\n",
    "\n",
    "def gaussian(x):\n",
    "    u = []\n",
    "    mu = 1.0\n",
    "    sig2 = 0.1\n",
    "    for i in x:\n",
    "        u.append(1.0/(np.sqrt(2.*np.pi*sig2))*np.exp(-np.power(i - mu, 2.)/(2.0*sig2)))\n",
    "    return u\n",
    "\n",
    "def lax(x,v,D,dt,Nt):\n",
    "    dx = x[1]-x[0]\n",
    "    u_0 = pulse(x)\n",
    "    for t in np.linspace(0,Nt*dt,Nt):\n",
    "        u = [u_0[0]]\n",
    "        for i in range(1,len(u_0)-1):\n",
    "            u.append(0.5*(u_0[i+1]+u_0[i-1])-0.5*v*dt/dx*(u_0[i+1]-u_0[i-1])+D*dt/(dx**2)*(u_0[i+1]+u_0[i-1]-2*u_0[i]))\n",
    "        u.append(u_0[-1])\n",
    "        u_0 = u\n",
    "    return x,u\n",
    "\n",
    "x, u = lax(np.linspace(0,2,100),0.2,0.01,0.0001,100)\n",
    "plt.plot(x,u,'k')"
   ]
  },
  {
   "cell_type": "code",
   "execution_count": 7,
   "metadata": {
    "collapsed": false
   },
   "outputs": [
    {
     "data": {
      "text/plain": [
       "[<matplotlib.lines.Line2D at 0x8559278>]"
      ]
     },
     "execution_count": 7,
     "metadata": {},
     "output_type": "execute_result"
    },
    {
     "data": {
      "image/png": "[encoded data removed]",
      "text/plain": [
       "<matplotlib.figure.Figure at 0x7b1ac50>"
      ]
     },
     "metadata": {},
     "output_type": "display_data"
    }
   ],
   "source": [
    "#u = 1 for x <= 1.5\n",
    "#u = 0 for x > 1.5\n",
    "from __future__ import division\n",
    "import numpy as np\n",
    "import matplotlib.pyplot as plt\n",
    "%matplotlib inline\n",
    "\n",
    "def stair(x):\n",
    "    u = []\n",
    "    for i in x:\n",
    "        if i <= 1.5:\n",
    "            u.append(1.)\n",
    "        else:\n",
    "            u.append(0.)\n",
    "    return u\n",
    "\n",
    "def pulse(x):\n",
    "    u = []\n",
    "    for i in x:\n",
    "        if i < 1. and i > 0.5:\n",
    "            u.append(2.0)\n",
    "        else:\n",
    "            u.append(1.0)\n",
    "    return u\n",
    "\n",
    "def lax_advection(x, v, dt, Nt):\n",
    "    dx = 0.02\n",
    "    u0 = np.copy(pulse(x))\n",
    "    for t in np.linspace(0,Nt*dt,Nt):\n",
    "        u0[1:] = u0[1:] - v*dt/dx*(u0[1:]-u0[:-1])\n",
    "    return x, u0\n",
    "\n",
    "x, u = lax_advection(np.linspace(0,2,100),0.05,0.01,500)\n",
    "plt.plot(x,u,'k')"
   ]
  },
  {
   "cell_type": "code",
   "execution_count": null,
   "metadata": {
    "collapsed": true
   },
   "outputs": [],
   "source": []
  }
 ],
 "metadata": {
  "kernelspec": {
   "display_name": "Python 2",
   "language": "python",
   "name": "python2"
  },
  "language_info": {
   "codemirror_mode": {
    "name": "ipython",
    "version": 2
   },
   "file_extension": ".py",
   "mimetype": "text/x-python",
   "name": "python",
   "nbconvert_exporter": "python",
   "pygments_lexer": "ipython2",
   "version": "2.7.11"
  }
 },
 "nbformat": 4,
 "nbformat_minor": 0
}
