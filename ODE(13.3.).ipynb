{
 "cells": [
  {
   "cell_type": "code",
   "execution_count": null,
   "metadata": {
    "collapsed": true
   },
   "outputs": [],
   "source": [
    "from __future__ import division\n",
    "import numpy as np\n",
    "%pylab inline\n",
    "import matplotlib.pyplot as plt\n",
    "# JSAnimation import available at https://github.com/jakevdp/JSAnimation\n",
    "#from JSAnimation import IPython_display\n",
    "#from matplotlib import animation"
   ]
  },
  {
   "cell_type": "code",
   "execution_count": null,
   "metadata": {
    "collapsed": true
   },
   "outputs": [],
   "source": [
    "a = 1.0\n",
    "e = 0.3\n",
    "GM = 4.0*np.pi**2\n",
    "\n",
    "def orbit(x0, y0, u0, v0, N, t0, tend):\n",
    "    x = [x0]\n",
    "    y = [y0]\n",
    "    u = [u0]\n",
    "    v = [v0]\n",
    "    t = np.linspace(t0, tend, N)\n",
    "    for i in range(1, size(t)):\n",
    "        h = (tend-t0)/N\n",
    "        x.append(x[i-1] + u[i-1]*h)\n",
    "        y.append(y[i-1] + v[i-1]*h)\n",
    "        tau = -GM/(x[i-1]**2 + y[i-1]**2)**1.5\n",
    "        #print x,y,tau\n",
    "        u.append(u[i-1] + tau*x[i-1]*h)\n",
    "        v.append(v[i-1] + tau*y[i-1]*h)\n",
    "    return x, y\n",
    "\n",
    "x, y = orbit(0, a*(1-e), -(GM/a*(1+e)/(1-e))**0.5, 0, 1000, 0, 2)\n",
    "plt.plot(x, y, 'k')\n",
    "x, y = orbit(0, a*(1-e), -(GM/a*(1+e)/(1-e))**0.5, 0, 700, 0, 2)\n",
    "plt.plot(x, y, 'b')\n",
    "x, y = orbit(0, a*(1-e), -(GM/a*(1+e)/(1-e))**0.5, 0, 400, 0, 2)\n",
    "plt.plot(x, y, 'r')"
   ]
  },
  {
   "cell_type": "code",
   "execution_count": null,
   "metadata": {
    "collapsed": true
   },
   "outputs": [],
   "source": [
    "a = 1.0\n",
    "e = 0.3\n",
    "GM = 4.0*np.pi**2\n",
    "\n",
    "def orbit(x0, y0, u0, v0, N, t0, tend):\n",
    "    x = [x0]\n",
    "    y = [y0]\n",
    "    u = [u0]\n",
    "    v = [v0]\n",
    "    t = np.linspace(t0, tend, N)\n",
    "    for i in range(1, size(t)):\n",
    "        h = (tend-t0)/N\n",
    "        tau = -GM/(x[i-1]**2 + y[i-1]**2)**1.5\n",
    "        u.append(u[i-1] + tau*x[i-1]*h)\n",
    "        v.append(v[i-1] + tau*y[i-1]*h)\n",
    "        x.append(x[i-1] + u[i]*h)\n",
    "        y.append(y[i-1] + v[i]*h)\n",
    "    return x, y\n",
    "\n",
    "x, y = orbit(0, a*(1-e), -(GM/a*(1+e)/(1-e))**0.5, 0, 1000, 0, 3)\n",
    "plt.plot(x, y, 'k.')"
   ]
  },
  {
   "cell_type": "code",
   "execution_count": null,
   "metadata": {
    "collapsed": true
   },
   "outputs": [],
   "source": [
    "a = 1.0\n",
    "e = 0.3\n",
    "GM = 4.0*np.pi**2\n",
    "\n",
    "def orbit(x0, y0, u0, v0, N, t0, tend):\n",
    "    x = [x0]\n",
    "    y = [y0]\n",
    "    u = [u0]\n",
    "    v = [v0]\n",
    "    t = np.linspace(t0, tend, N)\n",
    "    for i in range(1, size(t)):\n",
    "        h = (tend-t0)/N\n",
    "        tau = -GM/(x[i-1]**2 + y[i-1]**2)**1.5\n",
    "        x.append(x[i-1] + u[i-1]*h)\n",
    "        y.append(y[i-1] + v[i-1]*h)\n",
    "        u.append(u[i-1] + tau*x[i]*h)\n",
    "        v.append(v[i-1] + tau*y[i]*h)\n",
    "    return x, y\n",
    "\n",
    "x, y = orbit(0, a*(1-e), -(GM/a*(1+e)/(1-e))**0.5, 0, 1000, 0, 3)\n",
    "plt.plot(x, y, 'k')"
   ]
  }
 ],
 "metadata": {
  "kernelspec": {
   "display_name": "Python 2",
   "language": "python",
   "name": "python2"
  },
  "language_info": {
   "codemirror_mode": {
    "name": "ipython",
    "version": 2
   },
   "file_extension": ".py",
   "mimetype": "text/x-python",
   "name": "python",
   "nbconvert_exporter": "python",
   "pygments_lexer": "ipython2",
   "version": "2.7.11"
  }
 },
 "nbformat": 4,
 "nbformat_minor": 0
}
