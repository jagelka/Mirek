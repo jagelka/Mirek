{
 "cells": [
  {
   "cell_type": "code",
   "execution_count": null,
   "metadata": {
    "collapsed": true
   },
   "outputs": [],
   "source": [
    "import numpy as np\n",
    "\n",
    "def B(x):\n",
    "    return 5.0/3*x**(-1.0/3)*(1+x**(2.0/3))**(-0.5)-1.0/3x**(1.0/3)*(1+x**(2.0/3))**(-1.5)\n",
    "\n",
    "def C(x):\n",
    "    return -5.0/9*x**(-4.0/3)*(1+x**(2.0/3))**(-0.5)-2.0/3*x**(-2.0/3)*(1+x**(2.0/3))**(-1.5)+1.0/3*(1+x**(2.0/3))**(-2.5)\n",
    "\n",
    "def f(V,x):\n",
    "    return -2"
   ]
  }
 ],
 "metadata": {
  "kernelspec": {
   "display_name": "Python 2",
   "language": "python",
   "name": "python2"
  },
  "language_info": {
   "codemirror_mode": {
    "name": "ipython",
    "version": 2
   },
   "file_extension": ".py",
   "mimetype": "text/x-python",
   "name": "python",
   "nbconvert_exporter": "python",
   "pygments_lexer": "ipython2",
   "version": "2.7.11"
  }
 },
 "nbformat": 4,
 "nbformat_minor": 0
}
